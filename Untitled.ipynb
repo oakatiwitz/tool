{
 "cells": [
  {
   "cell_type": "markdown",
   "id": "c221d290-7090-4fcd-9de2-5aa06536e3c2",
   "metadata": {},
   "source": [
    "\"My Jupeter Notebook on IBM Watson Studio\""
   ]
  },
  {
   "cell_type": "markdown",
   "id": "abb353b6-bea1-4a5a-bbf5-8d67b645be87",
   "metadata": {},
   "source": [
    "Atiwit"
   ]
  },
  {
   "cell_type": "markdown",
   "id": "3eeaa602-add8-4070-b3fe-9b38ee7f8e8a",
   "metadata": {},
   "source": [
    "I am interested in data science because I love machine learning"
   ]
  },
  {
   "cell_type": "markdown",
   "id": "008313a1-6759-4d13-b312-c281b3fc153c",
   "metadata": {},
   "source": [
    "This is plus fucntion "
   ]
  },
  {
   "cell_type": "code",
   "execution_count": 11,
   "id": "390f4134-39e9-4edf-8c59-a2b4dd0bc4b5",
   "metadata": {},
   "outputs": [],
   "source": [
    "def mut(x):\n",
    "    x = x+2\n",
    "    return x"
   ]
  },
  {
   "attachments": {},
   "cell_type": "markdown",
   "id": "44a5994d-be71-4792-a3a8-fe56a83332f5",
   "metadata": {},
   "source": [
    "hi"
   ]
  }
 ],
 "metadata": {
  "kernelspec": {
   "display_name": "Python 3 (ipykernel)",
   "language": "python",
   "name": "python3"
  },
  "language_info": {
   "codemirror_mode": {
    "name": "ipython",
    "version": 3
   },
   "file_extension": ".py",
   "mimetype": "text/x-python",
   "name": "python",
   "nbconvert_exporter": "python",
   "pygments_lexer": "ipython3",
   "version": "3.11.1"
  }
 },
 "nbformat": 4,
 "nbformat_minor": 5
}
